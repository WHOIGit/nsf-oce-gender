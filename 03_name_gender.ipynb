{
 "cells": [
  {
   "cell_type": "markdown",
   "metadata": {},
   "source": [
    "# Get PI and co-PI gender from first names\n",
    "Created by Ivan Lima on 2020-03-22 10:44:57 "
   ]
  },
  {
   "cell_type": "markdown",
   "metadata": {},
   "source": [
    "In this notebook we:\n",
    "\n",
    "- Replace initials in PI & co-PI names with names found on the Web (by Jennie)\n",
    "- Extract first names for PIs & co-PIs\n",
    "- Assign gender to PIs & co-PIs using previously created name-gender data set\n",
    "- Compute female fraction of co-PIs"
   ]
  },
  {
   "cell_type": "code",
   "execution_count": 1,
   "metadata": {},
   "outputs": [
    {
     "name": "stdout",
     "output_type": "stream",
     "text": [
      "Last updated on Sat Mar 28 18:38:11 2020\n"
     ]
    }
   ],
   "source": [
    "import pandas as pd\n",
    "import numpy as np\n",
    "import datetime, re\n",
    "from tqdm import tnrange, notebook\n",
    "pd.options.display.max_columns = 50\n",
    "print('Last updated on {}'.format(datetime.datetime.now().ctime()))"
   ]
  },
  {
   "cell_type": "markdown",
   "metadata": {},
   "source": [
    "## Read NSF-OCE data"
   ]
  },
  {
   "cell_type": "code",
   "execution_count": 2,
   "metadata": {},
   "outputs": [
    {
     "name": "stdout",
     "output_type": "stream",
     "text": [
      "<class 'pandas.core.frame.DataFrame'>\n",
      "Int64Index: 11513 entries, 8911427 to 844394\n",
      "Data columns (total 18 columns):\n",
      " #   Column               Non-Null Count  Dtype         \n",
      "---  ------               --------------  -----         \n",
      " 0   Abstract             11513 non-null  string        \n",
      " 1   Title                11513 non-null  string        \n",
      " 2   Programs             11491 non-null  string        \n",
      " 3   StartDate            11513 non-null  datetime64[ns]\n",
      " 4   EndDate              11513 non-null  datetime64[ns]\n",
      " 5   PI                   11481 non-null  string        \n",
      " 6   Organization         11513 non-null  string        \n",
      " 7   State                11364 non-null  string        \n",
      " 8   Instrument           11513 non-null  string        \n",
      " 9   n_awards             11513 non-null  int64         \n",
      " 10  co-PIs               5784 non-null   string        \n",
      " 11  num_co-PIs           5784 non-null   float64       \n",
      " 12  total_amount         11513 non-null  float64       \n",
      " 13  total_ARRA           11513 non-null  float64       \n",
      " 14  program              11491 non-null  string        \n",
      " 15  n_programs           11491 non-null  float64       \n",
      " 16  tot_amount_adjusted  11513 non-null  float64       \n",
      " 17  tot_ARRA_adjusted    11513 non-null  float64       \n",
      "dtypes: datetime64[ns](2), float64(6), int64(1), string(9)\n",
      "memory usage: 1.7 MB\n"
     ]
    }
   ],
   "source": [
    "data_types = {'Abstract':'string', 'Title':'string', 'Programs':'string', 'PI':'string',\n",
    "              'Organization':'string', 'State':'string', 'Instrument':'string', 'co-PIs':'string',\n",
    "              'program':'string'}\n",
    "awards = pd.read_csv('data/awards_1985-2020_clean_edited_grouped.csv', index_col=0, parse_dates=[4,5],\n",
    "                     dtype=data_types)\n",
    "awards.info()"
   ]
  },
  {
   "cell_type": "markdown",
   "metadata": {},
   "source": [
    "## Read Jennie's name-gender data set"
   ]
  },
  {
   "cell_type": "code",
   "execution_count": 3,
   "metadata": {},
   "outputs": [],
   "source": [
    "names = pd.read_csv('data/unknown_gender_found.csv', index_col=0)\n",
    "names['name'] = [' '.join(n.split()) for n in names.name]\n",
    "names['fname'] = [s.split()[0] for s in names.name]\n",
    "names = names[names.fname.str.len() == 1].reset_index()\n",
    "names = names[names['First Name'].notnull()]\n",
    "names['new_name'] = names['First Name'] + ' ' + names['name']\n",
    "# names[['name', 'new_name']]"
   ]
  },
  {
   "cell_type": "markdown",
   "metadata": {},
   "source": [
    "Replace initials with names found on the Web."
   ]
  },
  {
   "cell_type": "code",
   "execution_count": 4,
   "metadata": {},
   "outputs": [],
   "source": [
    "new_name_map = {name:new_name for name, new_name in zip(names.name, names.new_name)}\n",
    "new_name_map['H Melosh'] = 'H Jay Melosh'\n",
    "new_name_map['Dijk Peter'] = 'Peter Dijk'\n",
    "\n",
    "for name in new_name_map:\n",
    "    awards.loc[awards['co-PIs'].str.contains(name).fillna(0),'co-PIs'] = [\n",
    "        s.replace(name, new_name_map[name])\n",
    "        for s in awards.loc[awards['co-PIs'].str.contains(name).fillna(0), 'co-PIs']]\n",
    "    awards.loc[awards['PI'].str.contains(name).fillna(0),'PI'] = [\n",
    "        s.replace(name, new_name_map[name])\n",
    "        for s in awards.loc[awards['PI'].str.contains(name).fillna(0), 'PI']]"
   ]
  },
  {
   "cell_type": "markdown",
   "metadata": {},
   "source": [
    "## Extract first name for PIs and Co-PIs"
   ]
  },
  {
   "cell_type": "code",
   "execution_count": 5,
   "metadata": {},
   "outputs": [
    {
     "name": "stdout",
     "output_type": "stream",
     "text": [
      "<class 'pandas.core.frame.DataFrame'>\n",
      "Int64Index: 11513 entries, 8911427 to 844394\n",
      "Data columns (total 20 columns):\n",
      " #   Column               Non-Null Count  Dtype         \n",
      "---  ------               --------------  -----         \n",
      " 0   Abstract             11513 non-null  string        \n",
      " 1   Title                11513 non-null  string        \n",
      " 2   Programs             11491 non-null  string        \n",
      " 3   StartDate            11513 non-null  datetime64[ns]\n",
      " 4   EndDate              11513 non-null  datetime64[ns]\n",
      " 5   PI                   11481 non-null  string        \n",
      " 6   Organization         11513 non-null  string        \n",
      " 7   State                11364 non-null  string        \n",
      " 8   Instrument           11513 non-null  string        \n",
      " 9   n_awards             11513 non-null  int64         \n",
      " 10  co-PIs               5784 non-null   string        \n",
      " 11  num_co-PIs           5784 non-null   float64       \n",
      " 12  total_amount         11513 non-null  float64       \n",
      " 13  total_ARRA           11513 non-null  float64       \n",
      " 14  program              11491 non-null  string        \n",
      " 15  n_programs           11491 non-null  float64       \n",
      " 16  tot_amount_adjusted  11513 non-null  float64       \n",
      " 17  tot_ARRA_adjusted    11513 non-null  float64       \n",
      " 18  PI_first_name        11481 non-null  object        \n",
      " 19  co-PI_first_name     5784 non-null   object        \n",
      "dtypes: datetime64[ns](2), float64(6), int64(1), object(2), string(9)\n",
      "memory usage: 1.8+ MB\n"
     ]
    }
   ],
   "source": [
    "def get_first_name(fullname):\n",
    "    names = fullname.split()\n",
    "    if len(names)>2:\n",
    "        if (len(names[0])>1) or (len(names[1])==1):\n",
    "            first_name = names[0]\n",
    "        else:\n",
    "            first_name = names[1]\n",
    "    else:\n",
    "        first_name = names[0]\n",
    "        \n",
    "    return first_name.lower()\n",
    "        \n",
    "awards.loc[awards.PI.notnull(),'PI_first_name'] = (\n",
    "    awards.PI.dropna().map(get_first_name))\n",
    "\n",
    "awards.loc[awards['co-PIs'].notnull(),'co-PI_first_name'] = [\n",
    "    ','.join([get_first_name(s) for s in rec.split(',')]) for rec in awards['co-PIs'].dropna()]\n",
    "\n",
    "awards.info()"
   ]
  },
  {
   "cell_type": "markdown",
   "metadata": {},
   "source": [
    "## Read PI & Co-PI name-gender data"
   ]
  },
  {
   "cell_type": "code",
   "execution_count": 6,
   "metadata": {},
   "outputs": [],
   "source": [
    "pi_copi_names = pd.read_hdf('data/pi_copi_name_gender.h5', 'pi_copi_names')\n",
    "name_gender_map = {name: gender for name, gender in zip(pi_copi_names.name, pi_copi_names.gender)}\n",
    "\n",
    "for name in ['josh','zachary','joost','dustin','harper','kanchan','blake','clement','gangfeng','kaustubh',\n",
    "             'chang-sheng','amir','antarpreet','dwight','hyodae','jingfeng','jian','xiaohui','daijiro',\n",
    "             'jordan','frisbee','hua-wei','tyler','wenyuan','oleg','cole','alexandre','sebastian','viktor',\n",
    "             'gifford','konstantinos','ossama','alastair','rene','weifu','lin','kaixuan','zunli','guangyu',\n",
    "             'ugo','kun','maxime','garriet','tommaso','giuseppe','jacob','marty','rusty','ethan','luca',\n",
    "             'dalton','emmanouil','gi','jud','sourabh','feili','hieu','puspa','leocadio','ramon','bill',\n",
    "             'jim','zhixiong','winsor','morteza','kuo-chuin']:\n",
    "    name_gender_map[name] = 'male'\n",
    "    \n",
    "for name in ['anita','torrance','ginger','rita','lael','juita-elena','ju-chin','aibing','shana','carolina',\n",
    "             'natalia','cara','lory','randelle','yurena','leigh','ran','brandi','yuko','valentina',\n",
    "             'georgianna','luciana','hayley','viktoria','libusha','roxanna','eunsoo','meagan','dayanthie',\n",
    "             'alexandrina','ingunn','an','wooyoung','arielle','jong-mi','shuyi','mercedes','sonia','devon',\n",
    "             'hollie','feixue','eman']:\n",
    "    name_gender_map[name] = 'female'\n",
    "\n",
    "# name_gender_map"
   ]
  },
  {
   "cell_type": "markdown",
   "metadata": {},
   "source": [
    "## Assign PI & co-PI gender based on first name"
   ]
  },
  {
   "cell_type": "code",
   "execution_count": 7,
   "metadata": {},
   "outputs": [],
   "source": [
    "awards['PI_gender'] = awards.PI_first_name.map(name_gender_map)\n",
    "\n",
    "awards.loc[awards['co-PI_first_name'].notnull(),'co-PI_gender'] = [\n",
    "    ','.join([name_gender_map.get(x,'unknown') for x in s.split(',')])\n",
    "    for s in awards.loc[awards['co-PI_first_name'].notnull(),'co-PI_first_name']]"
   ]
  },
  {
   "cell_type": "code",
   "execution_count": 8,
   "metadata": {},
   "outputs": [],
   "source": [
    "# unknown = awards.loc[awards['co-PI_gender'].str.contains('unknown').fillna(False),\n",
    "#                      ['co-PIs', 'co-PI_first_name', 'co-PI_gender']]\n",
    "# unknown"
   ]
  },
  {
   "cell_type": "markdown",
   "metadata": {},
   "source": [
    "## Compute female fraction of co-PIs"
   ]
  },
  {
   "cell_type": "code",
   "execution_count": 9,
   "metadata": {},
   "outputs": [
    {
     "name": "stderr",
     "output_type": "stream",
     "text": [
      "/home/ivan/miniconda3/lib/python3.7/site-packages/ipykernel_launcher.py:7: RuntimeWarning: invalid value encountered in double_scalars\n",
      "  import sys\n"
     ]
    }
   ],
   "source": [
    "def gender_frac(genstr, gender='female'):\n",
    "    s = pd.Series(genstr.split(','))\n",
    "    s[s=='unknown'] = np.nan\n",
    "    v = s.dropna().value_counts()\n",
    "    s0 = pd.Series({'female':0, 'male':0})\n",
    "    v = v.add(s0, fill_value=0)\n",
    "    return v[gender]/v.sum()\n",
    "\n",
    "awards.loc[awards['co-PI_gender'].notnull(),'co-PI_female_frac'] = [\n",
    "    gender_frac(x) for x in awards.loc[awards['co-PI_gender'].notnull(),'co-PI_gender']]"
   ]
  },
  {
   "cell_type": "markdown",
   "metadata": {},
   "source": [
    "## Save data set to CSV file"
   ]
  },
  {
   "cell_type": "code",
   "execution_count": 10,
   "metadata": {},
   "outputs": [
    {
     "name": "stdout",
     "output_type": "stream",
     "text": [
      "<class 'pandas.core.frame.DataFrame'>\n",
      "Int64Index: 11513 entries, 8911427 to 844394\n",
      "Data columns (total 23 columns):\n",
      " #   Column               Non-Null Count  Dtype         \n",
      "---  ------               --------------  -----         \n",
      " 0   Abstract             11513 non-null  string        \n",
      " 1   Title                11513 non-null  string        \n",
      " 2   Programs             11491 non-null  string        \n",
      " 3   StartDate            11513 non-null  datetime64[ns]\n",
      " 4   EndDate              11513 non-null  datetime64[ns]\n",
      " 5   PI                   11481 non-null  string        \n",
      " 6   Organization         11513 non-null  string        \n",
      " 7   State                11364 non-null  string        \n",
      " 8   Instrument           11513 non-null  string        \n",
      " 9   n_awards             11513 non-null  int64         \n",
      " 10  co-PIs               5784 non-null   string        \n",
      " 11  num_co-PIs           5784 non-null   float64       \n",
      " 12  total_amount         11513 non-null  float64       \n",
      " 13  total_ARRA           11513 non-null  float64       \n",
      " 14  program              11491 non-null  string        \n",
      " 15  n_programs           11491 non-null  float64       \n",
      " 16  tot_amount_adjusted  11513 non-null  float64       \n",
      " 17  tot_ARRA_adjusted    11513 non-null  float64       \n",
      " 18  PI_first_name        11481 non-null  object        \n",
      " 19  co-PI_first_name     5784 non-null   object        \n",
      " 20  PI_gender            11417 non-null  object        \n",
      " 21  co-PI_gender         5784 non-null   object        \n",
      " 22  co-PI_female_frac    5780 non-null   float64       \n",
      "dtypes: datetime64[ns](2), float64(7), int64(1), object(4), string(9)\n",
      "memory usage: 2.1+ MB\n"
     ]
    }
   ],
   "source": [
    "awards.to_csv('data/awards_1985-2020_clean_edited_grouped_gender.csv', encoding='utf-8-sig')\n",
    "awards.info()"
   ]
  },
  {
   "cell_type": "code",
   "execution_count": 11,
   "metadata": {},
   "outputs": [],
   "source": [
    "# len(awards.loc[awards.Abstract.str.contains('OCE\\s*-'),'Abstract'])\n",
    "# for i, s in awards.loc[awards.Abstract.str.contains('OCE\\s*\\d{2,}'),'Abstract'].iteritems():\n",
    "#     print('{}\\n{}\\n'.format(i,s))"
   ]
  }
 ],
 "metadata": {
  "hide_input": false,
  "kernelspec": {
   "display_name": "Python 3",
   "language": "python",
   "name": "python3"
  },
  "language_info": {
   "codemirror_mode": {
    "name": "ipython",
    "version": 3
   },
   "file_extension": ".py",
   "mimetype": "text/x-python",
   "name": "python",
   "nbconvert_exporter": "python",
   "pygments_lexer": "ipython3",
   "version": "3.7.6"
  },
  "toc": {
   "base_numbering": 1,
   "nav_menu": {},
   "number_sections": true,
   "sideBar": true,
   "skip_h1_title": false,
   "title_cell": "Table of Contents",
   "title_sidebar": "Contents",
   "toc_cell": false,
   "toc_position": {},
   "toc_section_display": true,
   "toc_window_display": true
  },
  "varInspector": {
   "cols": {
    "lenName": 16,
    "lenType": 16,
    "lenVar": 40
   },
   "kernels_config": {
    "python": {
     "delete_cmd_postfix": "",
     "delete_cmd_prefix": "del ",
     "library": "var_list.py",
     "varRefreshCmd": "print(var_dic_list())"
    },
    "r": {
     "delete_cmd_postfix": ") ",
     "delete_cmd_prefix": "rm(",
     "library": "var_list.r",
     "varRefreshCmd": "cat(var_dic_list()) "
    }
   },
   "types_to_exclude": [
    "module",
    "function",
    "builtin_function_or_method",
    "instance",
    "_Feature"
   ],
   "window_display": false
  }
 },
 "nbformat": 4,
 "nbformat_minor": 4
}
