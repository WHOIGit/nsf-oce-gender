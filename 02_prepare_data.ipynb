{
 "cells": [
  {
   "cell_type": "markdown",
   "metadata": {},
   "source": [
    "# Prepare NSF-OCE data for processing\n",
    "Created by Ivan Lima on 2020-03-16 14:47:19 "
   ]
  },
  {
   "cell_type": "markdown",
   "metadata": {},
   "source": [
    "In this notebook we:\n",
    "\n",
    "- Clean and make PI and co-PI names more consistent in format.\n",
    "- Finish cleaning Abstracts (remove html tags)\n",
    "- Group awards by abstract:\n",
    "    - Compute total amount awarded by adding amount awarded for each individual award.\n",
    "    - Main PI, organization and program are taken from the award with the highest amount awarded.\n",
    "    - Compute the number of awards in each group.\n",
    "    - Collect PI (besides main PI) and co-PI names for grouped awards.\n",
    "- Clean Programs and make them more consistent in format.\n",
    "- Extract main Program and compute number of programs for each award\n",
    "- Adjust total amount awarded for inflation to 2019 U.S. dollars."
   ]
  },
  {
   "cell_type": "code",
   "execution_count": 1,
   "metadata": {},
   "outputs": [
    {
     "name": "stdout",
     "output_type": "stream",
     "text": [
      "Last updated on Sat Mar 28 18:35:06 2020\n"
     ]
    }
   ],
   "source": [
    "import pandas as pd\n",
    "import numpy as np\n",
    "import datetime, re\n",
    "from tqdm import tnrange, notebook\n",
    "pd.options.display.max_columns = 50\n",
    "print('Last updated on {}'.format(datetime.datetime.now().ctime()))"
   ]
  },
  {
   "cell_type": "markdown",
   "metadata": {},
   "source": [
    "## Read NSF-OCE data"
   ]
  },
  {
   "cell_type": "code",
   "execution_count": 2,
   "metadata": {},
   "outputs": [
    {
     "name": "stdout",
     "output_type": "stream",
     "text": [
      "<class 'pandas.core.frame.DataFrame'>\n",
      "Int64Index: 14717 entries, 8911427 to 844394\n",
      "Data columns (total 12 columns):\n",
      " #   Column         Non-Null Count  Dtype         \n",
      "---  ------         --------------  -----         \n",
      " 0   Title          14717 non-null  string        \n",
      " 1   Programs       14691 non-null  string        \n",
      " 2   StartDate      14717 non-null  datetime64[ns]\n",
      " 3   EndDate        14717 non-null  datetime64[ns]\n",
      " 4   PI             14685 non-null  string        \n",
      " 5   Co-PIs         4968 non-null   string        \n",
      " 6   Organization   14717 non-null  string        \n",
      " 7   State          14541 non-null  string        \n",
      " 8   Instrument     14717 non-null  string        \n",
      " 9   AwardedAmount  14717 non-null  float64       \n",
      " 10  ARRA_Amount    14717 non-null  float64       \n",
      " 11  Abstract       14717 non-null  string        \n",
      "dtypes: datetime64[ns](2), float64(2), string(8)\n",
      "memory usage: 1.5 MB\n"
     ]
    }
   ],
   "source": [
    "data_types = {'Title':'string', 'Programs':'string', 'PI':'string', 'Co-PIs':'string',\n",
    "              'Organization':'string', 'State':'string', 'Instrument':'string', 'AwardedAmount':'string',\n",
    "              'ARRA_Amount':'string', 'Abstract':'string'}\n",
    "awards = pd.read_csv('data/awards_1985-2020_clean_edited.csv', index_col=0, parse_dates=[3,4],\n",
    "                     dtype=data_types)\n",
    "\n",
    "# convert strings to floats\n",
    "awards['AwardedAmount'] = [np.float(x) for x in awards.AwardedAmount.str.lstrip('$').str.replace(',','')]\n",
    "awards['ARRA_Amount'] = [np.float(x) for x in awards.ARRA_Amount.str.lstrip('$').str.replace(',','')]\n",
    "\n",
    "# remove awards with missing abstracts\n",
    "awards = awards[awards.Abstract.notnull()]\n",
    "\n",
    "# sort awards by abstract and amount awarded\n",
    "awards = awards.sort_values(['Abstract', 'AwardedAmount'])\n",
    "\n",
    "awards.info()"
   ]
  },
  {
   "cell_type": "markdown",
   "metadata": {},
   "source": [
    "## Clean and make PI's and co-PIs names more consistent"
   ]
  },
  {
   "cell_type": "code",
   "execution_count": 3,
   "metadata": {},
   "outputs": [],
   "source": [
    "# remove \"Jr\" from names\n",
    "p = r'(,)*\\s*Jr(\\.)*\\s*'\n",
    "awards.loc[awards.PI.str.contains(r'Jr').fillna(0),'PI'] = [\n",
    "    re.sub(p,'',s)for s in awards.loc[awards.PI.str.contains(r'Jr').fillna(0),'PI']]\n",
    "awards.loc[awards['Co-PIs'].str.contains(r'Jr').fillna(0),'Co-PIs'] = [\n",
    "    re.sub(p,'',s)for s in awards.loc[awards['Co-PIs'].str.contains(r'Jr').fillna(0),'Co-PIs']]\n",
    "\n",
    "# remove \".\" from initials\n",
    "p = r'\\.'\n",
    "awards.loc[awards.PI.str.contains(p).fillna(0),'PI'] = [\n",
    "    ' '.join(s.replace('.',' ').split()) for s in awards.loc[awards.PI.str.contains(p).fillna(0),'PI']]\n",
    "awards.loc[awards['Co-PIs'].str.contains(p).fillna(0),'Co-PIs'] = [\n",
    "    ','.join([' '.join(re.sub(p,' ',s0).split())\n",
    "              for s0 in s.split(',')]) for s in awards.loc[awards['Co-PIs'].str.contains(p).fillna(0),'Co-PIs']]\n",
    "\n",
    "# remove space from dashes (\"-\")\n",
    "awards.loc[awards.PI.str.contains(r'-').fillna(0),'PI'] = [\n",
    "    re.sub(r'\\s*-\\s*','-',s) for s in awards.loc[awards.PI.str.contains(r'-').fillna(0),'PI']]\n",
    "\n",
    "# remove parenthesis\n",
    "# awards.loc[awards.PI.str.contains(r'\\(').fillna(0),'PI'] = [\n",
    "#     re.sub(r'[()]+','',s) for s in awards.loc[awards.PI.str.contains(r'\\(').fillna(0),'PI']]\n",
    "\n",
    "# names start with upper case\n",
    "awards.loc[awards.PI.str.contains('JOAQUIM GOES').fillna(0),'PI'] = [\n",
    "    s.title() for s in awards.loc[awards.PI.str.contains('JOAQUIM GOES').fillna(0),'PI']]\n",
    "\n",
    "awards.loc[awards.PI.str.contains('penelope dalton').fillna(0),'PI'] = [\n",
    "    s.title() for s in awards.loc[awards.PI.str.contains('penelope dalton').fillna(0),'PI']]\n",
    "\n",
    "for p in [r'ANDREW LEISING', r'LISA BALLANCE', r'FEILI LI']:\n",
    "    awards.loc[awards['Co-PIs'].str.contains(p).fillna(0),'Co-PIs'] = [\n",
    "        ','.join([s0.title() for s0 in s.split(',')]) \n",
    "        for s in awards.loc[awards['Co-PIs'].str.contains(p).fillna(0),'Co-PIs']]\n",
    "\n",
    "# remove extra empty spaces\n",
    "awards.loc[awards.PI.notnull(),'PI'] = [' '.join(s.split())\n",
    "                                        for s in awards.loc[awards.PI.notnull(),'PI']]"
   ]
  },
  {
   "cell_type": "markdown",
   "metadata": {},
   "source": [
    "## Finish cleaning Abstracts"
   ]
  },
  {
   "cell_type": "code",
   "execution_count": 4,
   "metadata": {},
   "outputs": [],
   "source": [
    "# remove html tags\n",
    "awards.loc[awards.Abstract.str.contains('<br/>').fillna(0),'Abstract'] = [\n",
    "    s.replace('<br/>',' ') for s in awards.loc[awards.Abstract.str.contains('<br/>').fillna(0),'Abstract']]\n",
    "\n",
    "# remove multiple empty spaces\n",
    "awards.loc[awards.Abstract.notnull(),'Abstract'] = [\n",
    "    ' '.join(s.split()) for s in awards.loc[awards.Abstract.notnull(),'Abstract']]"
   ]
  },
  {
   "cell_type": "code",
   "execution_count": 5,
   "metadata": {},
   "outputs": [],
   "source": [
    "# len(awards.loc[awards.Abstract.str.contains('OCE\\s*-\\s*\\d{6,}'),'Abstract'])\n",
    "# for i, s in awards.loc[awards.Abstract.str.contains('OCE\\s*-\\s*\\d{6,}'),'Abstract'].iteritems():\n",
    "#     print('{}\\n{}\\n'.format(i,s))"
   ]
  },
  {
   "cell_type": "markdown",
   "metadata": {},
   "source": [
    "## Group awards by abstract"
   ]
  },
  {
   "cell_type": "markdown",
   "metadata": {},
   "source": [
    "**Note:** Collaborative Research awards are those in which investigators from two or more organizations collaborate on a single research project. These awards share the same abstract but the different organizations receive separate awards. Here we group awards by abstract, so Collaborative Research awards that are part of the same project are grouped into one award and the total amount awarded is the sum of the amounts awarded to each organization. The main PI and Organization for each group/project is assumed to be the one with the highest amount awarded."
   ]
  },
  {
   "cell_type": "code",
   "execution_count": 6,
   "metadata": {},
   "outputs": [
    {
     "name": "stdout",
     "output_type": "stream",
     "text": [
      "Total number of awards after grouping: 11513\n",
      "\n",
      "<class 'pandas.core.frame.DataFrame'>\n",
      "Int64Index: 11513 entries, 8911427 to 844394\n",
      "Data columns (total 14 columns):\n",
      " #   Column        Non-Null Count  Dtype         \n",
      "---  ------        --------------  -----         \n",
      " 0   Abstract      11513 non-null  object        \n",
      " 1   Title         11513 non-null  string        \n",
      " 2   Programs      11491 non-null  string        \n",
      " 3   StartDate     11513 non-null  datetime64[ns]\n",
      " 4   EndDate       11513 non-null  datetime64[ns]\n",
      " 5   PI            11481 non-null  string        \n",
      " 6   Organization  11513 non-null  string        \n",
      " 7   State         11364 non-null  string        \n",
      " 8   Instrument    11513 non-null  string        \n",
      " 9   n_awards      11513 non-null  int64         \n",
      " 10  co-PIs        5784 non-null   object        \n",
      " 11  num_co-PIs    5784 non-null   float64       \n",
      " 12  total_amount  11513 non-null  float64       \n",
      " 13  total_ARRA    11513 non-null  float64       \n",
      "dtypes: datetime64[ns](2), float64(3), int64(1), object(2), string(6)\n",
      "memory usage: 1.3+ MB\n"
     ]
    }
   ],
   "source": [
    "def top_award(df, col='AwardedAmount'):\n",
    "    cols = ['AwardNumber','Title','Programs','StartDate','EndDate',\n",
    "            'PI','Organization','State','Instrument']\n",
    "    return df.sort_values(col)[-1:][cols]\n",
    "\n",
    "# def concat_names(df, col='PI'):\n",
    "#     names = ','.join(df[col].dropna().to_list())\n",
    "#     if len(names) == 0:\n",
    "#         return np.nan\n",
    "#     else:\n",
    "#         return sorted(set([s.strip() for s in names.split(',')]))\n",
    "\n",
    "# function to collect PIs (besides the main PI) and co-PIs for grouped awards\n",
    "def concat_names2(df):\n",
    "    name_list = df['PI'].dropna().to_list() + df['Co-PIs'].dropna().to_list()\n",
    "    names = sorted(set([x.strip() for x in sum([s.split(',') for s in name_list], [])])) # remove spaces\n",
    "    main_pi = df.sort_values('AwardedAmount')[-1:]['PI'].item()\n",
    "    if pd.notna(main_pi):\n",
    "        if main_pi in names:\n",
    "            names.remove(main_pi)\n",
    "    if len(names) == 0:\n",
    "        return np.nan\n",
    "    else:\n",
    "        return ','.join(names)\n",
    "\n",
    "awards_grouped = awards.reset_index().groupby('Abstract').apply(top_award)\n",
    "awards_grouped = awards_grouped.reset_index(level=1, drop=True)\n",
    "\n",
    "# compute number of awards in each group\n",
    "awards_grouped['n_awards'] = awards.groupby('Abstract').size()\n",
    "\n",
    "# collect remaining PI and co-PI names in each group\n",
    "awards_grouped['co-PIs'] = awards.reset_index().groupby('Abstract').apply(concat_names2)\n",
    "\n",
    "# compute number of co-PIs\n",
    "awards_grouped.loc[awards_grouped['co-PIs'].notnull(),'num_co-PIs'] = (\n",
    "    awards_grouped.loc[awards_grouped['co-PIs'].notnull(),'co-PIs'].str.split(',').map(len))\n",
    "\n",
    "# compute total amount awarded for each group\n",
    "awards_grouped['total_amount'] = awards.reset_index().groupby('Abstract')['AwardedAmount'].sum()\n",
    "\n",
    "# compute total ARRA amount awarded for each group\n",
    "awards_grouped['total_ARRA'] = awards.reset_index().groupby('Abstract')['ARRA_Amount'].sum()\n",
    "\n",
    "# use AwardNumber as index\n",
    "awards_grouped = awards_grouped.reset_index().set_index('AwardNumber')\n",
    "\n",
    "print('Total number of awards after grouping: {}\\n'.format(len(awards_grouped)))\n",
    "\n",
    "awards_grouped.info()"
   ]
  },
  {
   "cell_type": "markdown",
   "metadata": {},
   "source": [
    "## Clean Programs and get main program and total number of programs for each award"
   ]
  },
  {
   "cell_type": "code",
   "execution_count": 7,
   "metadata": {},
   "outputs": [],
   "source": [
    "# remove empty spaces separated by commas & convert everything to upper case\n",
    "awards_grouped.loc[awards_grouped.Programs.notnull(),'Programs'] = [\n",
    "     (',').join([x.strip().upper() for x in s.split(',') if x != ' '])\n",
    "     for s in awards_grouped.loc[awards_grouped.Programs.notnull(),'Programs']]\n",
    "\n",
    "# set award program to first in the list\n",
    "awards_grouped.loc[awards_grouped.Programs.notnull(),'program'] = [\n",
    "    s.split(',')[0] for s in\n",
    "    awards_grouped.loc[awards_grouped.Programs.notnull(),'Programs']]\n",
    "\n",
    "# get number of programs for each award\n",
    "awards_grouped.loc[awards_grouped.Programs.notnull(),'n_programs'] = [\n",
    "    len(s.split(',')) for s in awards_grouped.loc[awards_grouped.Programs.notnull(),'Programs']]"
   ]
  },
  {
   "cell_type": "markdown",
   "metadata": {},
   "source": [
    "## Adjust amount awarded for inflation"
   ]
  },
  {
   "cell_type": "code",
   "execution_count": 8,
   "metadata": {},
   "outputs": [],
   "source": [
    "cpi = pd.read_excel('data/CPI_1985-2019.xlsx', skiprows=range(11), index_col=0) # consumer price index data\n",
    "rel_cpi = cpi.Annual/cpi.loc[2019,'Annual']                                     # use 2019 as reference year\n",
    "rel_cpi_map = {yr:val for yr, val in zip(rel_cpi.index, rel_cpi.values)}\n",
    "awards_grouped['tot_amount_adjusted'] = (awards_grouped.total_amount /\n",
    "                                   awards_grouped.StartDate.map(lambda x: rel_cpi_map[x.year]))\n",
    "awards_grouped['tot_ARRA_adjusted'] = (awards_grouped.total_ARRA /\n",
    "                                 awards_grouped.StartDate.map(lambda x: rel_cpi_map[x.year]))"
   ]
  },
  {
   "cell_type": "markdown",
   "metadata": {},
   "source": [
    "## Save data set to CSV file"
   ]
  },
  {
   "cell_type": "code",
   "execution_count": 9,
   "metadata": {},
   "outputs": [
    {
     "name": "stdout",
     "output_type": "stream",
     "text": [
      "<class 'pandas.core.frame.DataFrame'>\n",
      "Int64Index: 11513 entries, 8911427 to 844394\n",
      "Data columns (total 18 columns):\n",
      " #   Column               Non-Null Count  Dtype         \n",
      "---  ------               --------------  -----         \n",
      " 0   Abstract             11513 non-null  object        \n",
      " 1   Title                11513 non-null  string        \n",
      " 2   Programs             11491 non-null  string        \n",
      " 3   StartDate            11513 non-null  datetime64[ns]\n",
      " 4   EndDate              11513 non-null  datetime64[ns]\n",
      " 5   PI                   11481 non-null  string        \n",
      " 6   Organization         11513 non-null  string        \n",
      " 7   State                11364 non-null  string        \n",
      " 8   Instrument           11513 non-null  string        \n",
      " 9   n_awards             11513 non-null  int64         \n",
      " 10  co-PIs               5784 non-null   object        \n",
      " 11  num_co-PIs           5784 non-null   float64       \n",
      " 12  total_amount         11513 non-null  float64       \n",
      " 13  total_ARRA           11513 non-null  float64       \n",
      " 14  program              11491 non-null  object        \n",
      " 15  n_programs           11491 non-null  float64       \n",
      " 16  tot_amount_adjusted  11513 non-null  float64       \n",
      " 17  tot_ARRA_adjusted    11513 non-null  float64       \n",
      "dtypes: datetime64[ns](2), float64(6), int64(1), object(3), string(6)\n",
      "memory usage: 1.7+ MB\n"
     ]
    }
   ],
   "source": [
    "awards_grouped.to_csv('data/awards_1985-2020_clean_edited_grouped.csv', encoding='utf-8-sig')\n",
    "awards_grouped.info()"
   ]
  }
 ],
 "metadata": {
  "hide_input": false,
  "kernelspec": {
   "display_name": "Python 3",
   "language": "python",
   "name": "python3"
  },
  "language_info": {
   "codemirror_mode": {
    "name": "ipython",
    "version": 3
   },
   "file_extension": ".py",
   "mimetype": "text/x-python",
   "name": "python",
   "nbconvert_exporter": "python",
   "pygments_lexer": "ipython3",
   "version": "3.7.6"
  },
  "toc": {
   "base_numbering": 1,
   "nav_menu": {},
   "number_sections": true,
   "sideBar": true,
   "skip_h1_title": false,
   "title_cell": "Table of Contents",
   "title_sidebar": "Contents",
   "toc_cell": false,
   "toc_position": {},
   "toc_section_display": true,
   "toc_window_display": false
  },
  "varInspector": {
   "cols": {
    "lenName": 16,
    "lenType": 16,
    "lenVar": 40
   },
   "kernels_config": {
    "python": {
     "delete_cmd_postfix": "",
     "delete_cmd_prefix": "del ",
     "library": "var_list.py",
     "varRefreshCmd": "print(var_dic_list())"
    },
    "r": {
     "delete_cmd_postfix": ") ",
     "delete_cmd_prefix": "rm(",
     "library": "var_list.r",
     "varRefreshCmd": "cat(var_dic_list()) "
    }
   },
   "types_to_exclude": [
    "module",
    "function",
    "builtin_function_or_method",
    "instance",
    "_Feature"
   ],
   "window_display": false
  }
 },
 "nbformat": 4,
 "nbformat_minor": 4
}
